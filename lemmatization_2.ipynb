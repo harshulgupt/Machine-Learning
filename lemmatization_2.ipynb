{
  "nbformat": 4,
  "nbformat_minor": 0,
  "metadata": {
    "colab": {
      "name": "lemmatization 2.ipynb",
      "version": "0.3.2",
      "provenance": [],
      "collapsed_sections": []
    },
    "kernelspec": {
      "name": "python3",
      "display_name": "Python 3"
    }
  },
  "cells": [
    {
      "cell_type": "code",
      "metadata": {
        "id": "3zOhIWP4eY6N",
        "colab_type": "code",
        "colab": {}
      },
      "source": [
        "import spacy"
      ],
      "execution_count": 0,
      "outputs": []
    },
    {
      "cell_type": "code",
      "metadata": {
        "id": "80AeBdFWemny",
        "colab_type": "code",
        "colab": {}
      },
      "source": [
        "#language\n",
        "nlp=spacy.load('en')"
      ],
      "execution_count": 0,
      "outputs": []
    },
    {
      "cell_type": "code",
      "metadata": {
        "id": "aB8__YB0esUs",
        "colab_type": "code",
        "colab": {}
      },
      "source": [
        "data='Everything amazing about universe in within you and you two are inseperable'"
      ],
      "execution_count": 0,
      "outputs": []
    },
    {
      "cell_type": "code",
      "metadata": {
        "id": "FjTww_zXfX4o",
        "colab_type": "code",
        "colab": {}
      },
      "source": [
        "new_data=nlp(data) #automatic tokenize"
      ],
      "execution_count": 0,
      "outputs": []
    },
    {
      "cell_type": "code",
      "metadata": {
        "id": "FlSQfkBBfa_x",
        "colab_type": "code",
        "outputId": "5c939b85-091d-432c-efe6-363d9bf0737b",
        "colab": {
          "base_uri": "https://localhost:8080/",
          "height": 629
        }
      },
      "source": [
        "for i in new_data:\n",
        "  print(i,'lemmatization of word is---->',i.lemma_)\n",
        "  print('i.POS_')\n",
        "  print('--------------------------------------------------------------------------------------------------------------------------')\n"
      ],
      "execution_count": 0,
      "outputs": [
        {
          "output_type": "stream",
          "text": [
            "Everything lemmatization of word is----> Everything\n",
            "i.POS_\n",
            "--------------------------------------------------------------------------------------------------------------------------\n",
            "amazing lemmatization of word is----> amazing\n",
            "i.POS_\n",
            "--------------------------------------------------------------------------------------------------------------------------\n",
            "about lemmatization of word is----> about\n",
            "i.POS_\n",
            "--------------------------------------------------------------------------------------------------------------------------\n",
            "universe lemmatization of word is----> universe\n",
            "i.POS_\n",
            "--------------------------------------------------------------------------------------------------------------------------\n",
            "in lemmatization of word is----> in\n",
            "i.POS_\n",
            "--------------------------------------------------------------------------------------------------------------------------\n",
            "within lemmatization of word is----> within\n",
            "i.POS_\n",
            "--------------------------------------------------------------------------------------------------------------------------\n",
            "you lemmatization of word is----> -PRON-\n",
            "i.POS_\n",
            "--------------------------------------------------------------------------------------------------------------------------\n",
            "and lemmatization of word is----> and\n",
            "i.POS_\n",
            "--------------------------------------------------------------------------------------------------------------------------\n",
            "you lemmatization of word is----> -PRON-\n",
            "i.POS_\n",
            "--------------------------------------------------------------------------------------------------------------------------\n",
            "two lemmatization of word is----> two\n",
            "i.POS_\n",
            "--------------------------------------------------------------------------------------------------------------------------\n",
            "are lemmatization of word is----> be\n",
            "i.POS_\n",
            "--------------------------------------------------------------------------------------------------------------------------\n",
            "inseperable lemmatization of word is----> inseperable\n",
            "i.POS_\n",
            "--------------------------------------------------------------------------------------------------------------------------\n"
          ],
          "name": "stdout"
        }
      ]
    },
    {
      "cell_type": "code",
      "metadata": {
        "id": "w5Tx6Pc7foCt",
        "colab_type": "code",
        "colab": {}
      },
      "source": [
        ""
      ],
      "execution_count": 0,
      "outputs": []
    }
  ]
}