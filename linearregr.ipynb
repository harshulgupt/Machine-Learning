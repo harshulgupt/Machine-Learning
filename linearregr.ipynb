{
  "nbformat": 4,
  "nbformat_minor": 0,
  "metadata": {
    "colab": {
      "name": "linearregr.ipynb",
      "version": "0.3.2",
      "provenance": [],
      "collapsed_sections": [],
      "include_colab_link": true
    },
    "kernelspec": {
      "name": "python3",
      "display_name": "Python 3"
    }
  },
  "cells": [
    {
      "cell_type": "markdown",
      "metadata": {
        "id": "view-in-github",
        "colab_type": "text"
      },
      "source": [
        "<a href=\"https://colab.research.google.com/github/harshulgupt/Machine-Learning/blob/master/linearregr.ipynb\" target=\"_parent\"><img src=\"https://colab.research.google.com/assets/colab-badge.svg\" alt=\"Open In Colab\"/></a>"
      ]
    },
    {
      "cell_type": "code",
      "metadata": {
        "id": "mz0lSKUb6vLD",
        "colab_type": "code",
        "colab": {}
      },
      "source": [
        "import pandas as pd \n",
        "import matplotlib.pyplot as plt"
      ],
      "execution_count": 0,
      "outputs": []
    },
    {
      "cell_type": "code",
      "metadata": {
        "id": "jRXI64mN7ETG",
        "colab_type": "code",
        "colab": {}
      },
      "source": [
        "#loading data\n",
        "df=pd.read_csv('http://13.234.66.67/summer19/datasets/salary.csv')"
      ],
      "execution_count": 0,
      "outputs": []
    },
    {
      "cell_type": "code",
      "metadata": {
        "id": "_r9CZkpx7U40",
        "colab_type": "code",
        "colab": {
          "base_uri": "https://localhost:8080/",
          "height": 136
        },
        "outputId": "cee73b35-2cf9-4d99-e9d6-7ae5217e2b42"
      },
      "source": [
        "#schema\n",
        "df.info()"
      ],
      "execution_count": 3,
      "outputs": [
        {
          "output_type": "stream",
          "text": [
            "<class 'pandas.core.frame.DataFrame'>\n",
            "RangeIndex: 30 entries, 0 to 29\n",
            "Data columns (total 2 columns):\n",
            "YearsExperience    30 non-null float64\n",
            "Salary             30 non-null float64\n",
            "dtypes: float64(2)\n",
            "memory usage: 560.0 bytes\n"
          ],
          "name": "stdout"
        }
      ]
    },
    {
      "cell_type": "code",
      "metadata": {
        "id": "10v7UCvK8WDw",
        "colab_type": "code",
        "colab": {
          "base_uri": "https://localhost:8080/",
          "height": 204
        },
        "outputId": "7e81119f-a05f-4b93-b458-e7098b8588d6"
      },
      "source": [
        "df.head()"
      ],
      "execution_count": 11,
      "outputs": [
        {
          "output_type": "execute_result",
          "data": {
            "text/html": [
              "<div>\n",
              "<style scoped>\n",
              "    .dataframe tbody tr th:only-of-type {\n",
              "        vertical-align: middle;\n",
              "    }\n",
              "\n",
              "    .dataframe tbody tr th {\n",
              "        vertical-align: top;\n",
              "    }\n",
              "\n",
              "    .dataframe thead th {\n",
              "        text-align: right;\n",
              "    }\n",
              "</style>\n",
              "<table border=\"1\" class=\"dataframe\">\n",
              "  <thead>\n",
              "    <tr style=\"text-align: right;\">\n",
              "      <th></th>\n",
              "      <th>YearsExperience</th>\n",
              "      <th>Salary</th>\n",
              "    </tr>\n",
              "  </thead>\n",
              "  <tbody>\n",
              "    <tr>\n",
              "      <th>0</th>\n",
              "      <td>1.1</td>\n",
              "      <td>39343.0</td>\n",
              "    </tr>\n",
              "    <tr>\n",
              "      <th>1</th>\n",
              "      <td>1.3</td>\n",
              "      <td>46205.0</td>\n",
              "    </tr>\n",
              "    <tr>\n",
              "      <th>2</th>\n",
              "      <td>1.5</td>\n",
              "      <td>37731.0</td>\n",
              "    </tr>\n",
              "    <tr>\n",
              "      <th>3</th>\n",
              "      <td>2.0</td>\n",
              "      <td>43525.0</td>\n",
              "    </tr>\n",
              "    <tr>\n",
              "      <th>4</th>\n",
              "      <td>2.2</td>\n",
              "      <td>39891.0</td>\n",
              "    </tr>\n",
              "  </tbody>\n",
              "</table>\n",
              "</div>"
            ],
            "text/plain": [
              "   YearsExperience   Salary\n",
              "0              1.1  39343.0\n",
              "1              1.3  46205.0\n",
              "2              1.5  37731.0\n",
              "3              2.0  43525.0\n",
              "4              2.2  39891.0"
            ]
          },
          "metadata": {
            "tags": []
          },
          "execution_count": 11
        }
      ]
    },
    {
      "cell_type": "code",
      "metadata": {
        "id": "TE1dllY57YeM",
        "colab_type": "code",
        "colab": {}
      },
      "source": [
        "#experience that we are going to use as input training dta\n",
        "exp=df.iloc[:,0:1].values"
      ],
      "execution_count": 0,
      "outputs": []
    },
    {
      "cell_type": "code",
      "metadata": {
        "id": "sXYImAwg7pg6",
        "colab_type": "code",
        "colab": {
          "base_uri": "https://localhost:8080/",
          "height": 527
        },
        "outputId": "2687ed0f-cd35-4abc-c6c9-66e49edd2008"
      },
      "source": [
        "#actual salary\n",
        "sal=df.iloc[:,1:].values\n",
        "sal"
      ],
      "execution_count": 28,
      "outputs": [
        {
          "output_type": "execute_result",
          "data": {
            "text/plain": [
              "array([[ 39343.],\n",
              "       [ 46205.],\n",
              "       [ 37731.],\n",
              "       [ 43525.],\n",
              "       [ 39891.],\n",
              "       [ 56642.],\n",
              "       [ 60150.],\n",
              "       [ 54445.],\n",
              "       [ 64445.],\n",
              "       [ 57189.],\n",
              "       [ 63218.],\n",
              "       [ 55794.],\n",
              "       [ 56957.],\n",
              "       [ 57081.],\n",
              "       [ 61111.],\n",
              "       [ 67938.],\n",
              "       [ 66029.],\n",
              "       [ 83088.],\n",
              "       [ 81363.],\n",
              "       [ 93940.],\n",
              "       [ 91738.],\n",
              "       [ 98273.],\n",
              "       [101302.],\n",
              "       [113812.],\n",
              "       [109431.],\n",
              "       [105582.],\n",
              "       [116969.],\n",
              "       [112635.],\n",
              "       [122391.],\n",
              "       [121872.]])"
            ]
          },
          "metadata": {
            "tags": []
          },
          "execution_count": 28
        }
      ]
    },
    {
      "cell_type": "code",
      "metadata": {
        "id": "kkeCxmn47w11",
        "colab_type": "code",
        "colab": {
          "base_uri": "https://localhost:8080/",
          "height": 283
        },
        "outputId": "add22d6f-0525-40d8-e419-68a09d334de6"
      },
      "source": [
        "# now we can visualize this and salary data\n",
        "plt.xlabel(\"experience\")\n",
        "plt.ylabel(\"salary\")\n",
        "plt.scatter(exp,sal)\n",
        "plt.show()"
      ],
      "execution_count": 27,
      "outputs": [
        {
          "output_type": "display_data",
          "data": {
            "image/png": "[encoded data removed]",
            "text/plain": [
              "<Figure size 432x288 with 1 Axes>"
            ]
          },
          "metadata": {
            "tags": []
          }
        }
      ]
    },
    {
      "cell_type": "code",
      "metadata": {
        "id": "xb9GT4wA8J-n",
        "colab_type": "code",
        "colab": {}
      },
      "source": [
        "#calling linear regression model\n",
        "\n",
        "from  sklearn.linear_model import LinearRegression"
      ],
      "execution_count": 0,
      "outputs": []
    },
    {
      "cell_type": "code",
      "metadata": {
        "id": "V2P4tXHE8ts3",
        "colab_type": "code",
        "colab": {
          "base_uri": "https://localhost:8080/",
          "height": 34
        },
        "outputId": "f169660c-3a6e-40b8-f98a-2601c9573c36"
      },
      "source": [
        "# model creation\n",
        "regr=LinearRegression()\n",
        "regr"
      ],
      "execution_count": 14,
      "outputs": [
        {
          "output_type": "execute_result",
          "data": {
            "text/plain": [
              "LinearRegression(copy_X=True, fit_intercept=True, n_jobs=None, normalize=False)"
            ]
          },
          "metadata": {
            "tags": []
          },
          "execution_count": 14
        }
      ]
    },
    {
      "cell_type": "code",
      "metadata": {
        "id": "8CVrd47Q80-G",
        "colab_type": "code",
        "colab": {}
      },
      "source": [
        "#fitting experience and salary\n",
        "trained=regr.fit(exp.reshape(1,-1),sal.reshape(1,-1))"
      ],
      "execution_count": 0,
      "outputs": []
    },
    {
      "cell_type": "code",
      "metadata": {
        "id": "RjgnsUDX9G14",
        "colab_type": "code",
        "colab": {
          "base_uri": "https://localhost:8080/",
          "height": 102
        },
        "outputId": "aa715c72-c309-491a-94a8-8e5c2cb0ee88"
      },
      "source": [
        "# actual sal\n",
        "sal"
      ],
      "execution_count": 18,
      "outputs": [
        {
          "output_type": "execute_result",
          "data": {
            "text/plain": [
              "array([ 39343.,  46205.,  37731.,  43525.,  39891.,  56642.,  60150.,\n",
              "        54445.,  64445.,  57189.,  63218.,  55794.,  56957.,  57081.,\n",
              "        61111.,  67938.,  66029.,  83088.,  81363.,  93940.,  91738.,\n",
              "        98273., 101302., 113812., 109431., 105582., 116969., 112635.,\n",
              "       122391., 121872.])"
            ]
          },
          "metadata": {
            "tags": []
          },
          "execution_count": 18
        }
      ]
    },
    {
      "cell_type": "code",
      "metadata": {
        "id": "ZH3SlFo8-jd0",
        "colab_type": "code",
        "colab": {}
      },
      "source": [
        "trained=regr.fit(exp.reshape(1,-1),trained.predict(exp.reshape(1,-1)))"
      ],
      "execution_count": 0,
      "outputs": []
    },
    {
      "cell_type": "code",
      "metadata": {
        "id": "cLxxTvrB-Sbd",
        "colab_type": "code",
        "colab": {
          "base_uri": "https://localhost:8080/",
          "height": 283
        },
        "outputId": "3dc66efe-be9b-4487-e954-e9aa5c8ab58c"
      },
      "source": [
        "# now we can visualize this and salary data\n",
        "plt.xlabel(\"experience\")\n",
        "plt.ylabel(\"salary\")\n",
        "plt.scatter(sal,trained.predict(exp.reshape(1,-1)))\n",
        "plt.show()"
      ],
      "execution_count": 24,
      "outputs": [
        {
          "output_type": "display_data",
          "data": {
            "image/png": "[encoded data removed]",
            "text/plain": [
              "<Figure size 432x288 with 1 Axes>"
            ]
          },
          "metadata": {
            "tags": []
          }
        }
      ]
    },
    {
      "cell_type": "code",
      "metadata": {
        "id": "iuapdbhy-YcQ",
        "colab_type": "code",
        "colab": {}
      },
      "source": [
        "#calling linear regression model\n",
        "\n",
        "from  sklearn.linear_model import LinearRegression"
      ],
      "execution_count": 0,
      "outputs": []
    },
    {
      "cell_type": "code",
      "metadata": {
        "id": "Zx8vXX56Abwr",
        "colab_type": "code",
        "colab": {
          "base_uri": "https://localhost:8080/",
          "height": 34
        },
        "outputId": "46e93e08-3885-4cee-e3d6-5b1738f07164"
      },
      "source": [
        "# model creation\n",
        "regr=LinearRegression()\n",
        "regr\n"
      ],
      "execution_count": 30,
      "outputs": [
        {
          "output_type": "execute_result",
          "data": {
            "text/plain": [
              "LinearRegression(copy_X=True, fit_intercept=True, n_jobs=None, normalize=False)"
            ]
          },
          "metadata": {
            "tags": []
          },
          "execution_count": 30
        }
      ]
    },
    {
      "cell_type": "code",
      "metadata": {
        "id": "nModFeKJAeqg",
        "colab_type": "code",
        "colab": {}
      },
      "source": [
        "#now fitting regre\n",
        "trained=regr.fit(exp,sal)"
      ],
      "execution_count": 0,
      "outputs": []
    },
    {
      "cell_type": "code",
      "metadata": {
        "id": "bsq-6yMOAriM",
        "colab_type": "code",
        "colab": {
          "base_uri": "https://localhost:8080/",
          "height": 283
        },
        "outputId": "48f54aa9-7cb6-4e41-c3a5-9e633ac5106c"
      },
      "source": [
        "# now we can visualize this and salary data\n",
        "plt.xlabel(\"Experience\")\n",
        "plt.ylabel(\"Salary\")\n",
        "plt.scatter(exp,sal,label=\"actual data as per exp\")\n",
        "plt.plot(exp,trained.predict(exp),label=\"Predicted Salary\")\n",
        "plt.legend()\n",
        "plt.show()"
      ],
      "execution_count": 37,
      "outputs": [
        {
          "output_type": "display_data",
          "data": {
            "image/png": "[encoded data removed]",
            "text/plain": [
              "<Figure size 432x288 with 1 Axes>"
            ]
          },
          "metadata": {
            "tags": []
          }
        }
      ]
    },
    {
      "cell_type": "code",
      "metadata": {
        "id": "kM4_lXfkAynx",
        "colab_type": "code",
        "colab": {}
      },
      "source": [
        ""
      ],
      "execution_count": 0,
      "outputs": []
    }
  ]
}